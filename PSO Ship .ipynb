{
 "cells": [
  {
   "cell_type": "code",
   "execution_count": 1,
   "metadata": {},
   "outputs": [
    {
     "ename": "NameError",
     "evalue": "name 'random' is not defined",
     "output_type": "error",
     "traceback": [
      "\u001b[1;31m---------------------------------------------------------------------------\u001b[0m",
      "\u001b[1;31mNameError\u001b[0m                                 Traceback (most recent call last)",
      "\u001b[1;32m<ipython-input-1-bb4af5859c81>\u001b[0m in \u001b[0;36m<module>\u001b[1;34m\u001b[0m\n\u001b[0;32m      2\u001b[0m \u001b[1;32mimport\u001b[0m \u001b[0mmatplotlib\u001b[0m\u001b[1;33m.\u001b[0m\u001b[0mpyplot\u001b[0m \u001b[1;32mas\u001b[0m \u001b[0mplt\u001b[0m\u001b[1;33m\u001b[0m\u001b[1;33m\u001b[0m\u001b[0m\n\u001b[0;32m      3\u001b[0m \u001b[1;32mimport\u001b[0m \u001b[0mnumpy\u001b[0m \u001b[1;32mas\u001b[0m \u001b[0mnp\u001b[0m\u001b[1;33m\u001b[0m\u001b[1;33m\u001b[0m\u001b[0m\n\u001b[1;32m----> 4\u001b[1;33m \u001b[0mrandom\u001b[0m\u001b[1;33m.\u001b[0m\u001b[0mseed\u001b[0m\u001b[1;33m(\u001b[0m\u001b[1;36m50\u001b[0m\u001b[1;33m)\u001b[0m\u001b[1;33m\u001b[0m\u001b[1;33m\u001b[0m\u001b[0m\n\u001b[0m\u001b[0;32m      5\u001b[0m \u001b[0mnp\u001b[0m\u001b[1;33m.\u001b[0m\u001b[0mrandom\u001b[0m\u001b[1;33m.\u001b[0m\u001b[0mseed\u001b[0m\u001b[1;33m(\u001b[0m\u001b[1;36m50\u001b[0m\u001b[1;33m)\u001b[0m\u001b[1;33m\u001b[0m\u001b[1;33m\u001b[0m\u001b[0m\n\u001b[0;32m      6\u001b[0m \u001b[1;33m\u001b[0m\u001b[0m\n",
      "\u001b[1;31mNameError\u001b[0m: name 'random' is not defined"
     ]
    }
   ],
   "source": [
    "import random as rand\n",
    "import matplotlib.pyplot as plt \n",
    "import numpy as np\n",
    "random.seed(50)\n",
    "np.random.seed(50)\n",
    "\n",
    "def initialize_position():\n",
    "    cords_set = set()\n",
    "    while len(cords_set) < 10: \n",
    "        x, y = rand.randint(0, 100), rand.randint(0, 100)\n",
    "        cords_set.add((x, y))\n",
    "\n",
    "    print(cords_set)\n",
    "    particle_cords = np.array(list(cords_set))\n",
    "    print(particle_cords)\n",
    "    plot(particle_cords)\n",
    "  \n",
    "\n",
    "def plot(particle_cords):\n",
    "    # x-axis values \n",
    "    x = [pc[0] for pc in particle_cords] \n",
    "    # y-axis values \n",
    "    y = [pc[1] for pc in particle_cords]\n",
    "\n",
    "    # plotting points as a scatter plot \n",
    "    plt.scatter(x, y, label= \"stars\", color= \"green\",  \n",
    "                marker= \"*\", s=30) \n",
    "\n",
    "    # x-axis label \n",
    "    plt.xlabel('x - axis') \n",
    "    # frequency label \n",
    "    plt.ylabel('y - axis') \n",
    "    # plot title \n",
    "    plt.title('My scatter plot!') \n",
    "    # showing legend \n",
    "    plt.legend() \n",
    "\n",
    "    # function to show the plot \n",
    "    plt.show() \n",
    "\n",
    "initialize_position()\n"
   ]
  },
  {
   "cell_type": "code",
   "execution_count": 2,
   "metadata": {
    "scrolled": true
   },
   "outputs": [
    {
     "name": "stdout",
     "output_type": "stream",
     "text": [
      "Target destination:  [31 17]\n",
      "--- iteration  1  ---\n"
     ]
    },
    {
     "data": {
      "image/png": "[encoded data removed]",
      "text/plain": [
       "<Figure size 432x288 with 1 Axes>"
      ]
     },
     "metadata": {
      "needs_background": "light"
     },
     "output_type": "display_data"
    },
    {
     "name": "stdout",
     "output_type": "stream",
     "text": [
      "Position Ship  1 :  [44 30]  new pbest is  [44 30]\n",
      "Position Ship  2 :  [49 21]  new pbest is  [49 21]\n",
      "Position Ship  3 :  [ 5 34]  new pbest is  [ 5 34]\n",
      "Position Ship  4 :  [20 14]  new pbest is  [20 14]\n",
      "Position Ship  5 :  [43 35]  new pbest is  [43 35]\n",
      "\n",
      "The current iteration best solution is:-\n",
      "\tPosition:  [20 14]\n",
      "\tDistance from target (km):  11.4018\n",
      "\tDistance travelled (km):  0.0\n",
      "\tTotal time travelled (km/h):  0.0\n",
      "\tTrack:  [20 14]\n",
      "--- iteration  2  ---\n"
     ]
    },
    {
     "data": {
      "image/png": "[encoded data removed]",
      "text/plain": [
       "<Figure size 432x288 with 1 Axes>"
      ]
     },
     "metadata": {
      "needs_background": "light"
     },
     "output_type": "display_data"
    },
    {
     "name": "stdout",
     "output_type": "stream",
     "text": [
      "Position Ship  1 :  [43.63203793 29.75469195]  new pbest is  [43.63203793 29.75469195]\n",
      "Position Ship  2 :  [46.15880373 20.314194  ]  new pbest is  [46.15880373 20.314194  ]\n",
      "Position Ship  3 :  [ 5.28345348 33.62206203]  new pbest is  [ 5.28345348 33.62206203]\n",
      "Position Ship  4 :  [20. 14.]  new pbest is  [20 14]\n",
      "Position Ship  5 :  [41.60276332 33.72426216]  new pbest is  [41.60276332 33.72426216]\n",
      "\n",
      "The current iteration best solution is:-\n",
      "\tPosition:  [20. 14.]\n",
      "\tDistance from target (km):  11.4018\n",
      "\tDistance travelled (km):  0.0\n",
      "\tTotal time travelled (km/h):  0.0\n",
      "\tTrack:  [20. 14. 20. 14.]\n",
      "\n",
      "--- 0.5646665096282959 seconds ---\n"
     ]
    }
   ],
   "source": [
    "import random as rand\n",
    "import numpy as np\n",
    "import matplotlib.pyplot as plt\n",
    "import math\n",
    "import time\n",
    "\n",
    "rand.seed(50)\n",
    "np.random.seed(50)\n",
    "\n",
    "class Particle():\n",
    "    def __init__(self):\n",
    "        self.position = np.array([rand.randint(0, 50), rand.randint(0, 50)])\n",
    "        self.pbest_position = self.position\n",
    "        self.pbest_value = float('inf')\n",
    "        self.velocity = np.array([0,0])\n",
    "        self.travelled_distance = 0.0\n",
    "        self.time_travelled = 0.0\n",
    "        self.track = self.position\n",
    "\n",
    "    def __str__(self, ind):\n",
    "        print(\"Position Ship \", ind, \": \", self.position, \" new pbest is \", self.pbest_position)\n",
    "    \n",
    "    def move(self):\n",
    "        old_position = self.position\n",
    "        self.position = self.position + self.velocity\n",
    "        self.track = np.append(self.track, self.position, axis=0)\n",
    "        distance = math.dist([old_position[0], old_position[1]], [self.position[0], self.position[1]])\n",
    "        self.travelled_distance = self.travelled_distance + distance\n",
    "        self.time_travelled = self.travelled_distance / speed\n",
    "       \n",
    "class Space():\n",
    "\n",
    "    def __init__(self, target, min_distance, n_particles):\n",
    "        self.target = np.array([rand.randint(0, 50), rand.randint(0, 50)])\n",
    "        self.min_distance = min_distance\n",
    "        self.n_particles = n_particles\n",
    "        self.particles = []\n",
    "        self.gbest_value = float('inf')\n",
    "        self.gbest_position = np.array([rand.random()*50, rand.random()*50])\n",
    "        self.gbest_travelled_distance = 0.0\n",
    "        self.gbest_time_travelled = 0.0\n",
    "        self.gbest_track = self.gbest_position\n",
    "\n",
    "    def print_particles(self):\n",
    "        ind = 1\n",
    "        for particle in self.particles:\n",
    "            particle.__str__(ind)\n",
    "            ind += 1\n",
    "   \n",
    "    def fitness(self, particle):\n",
    "        return round(math.dist([particle.position[0], particle.position[1]], [self.target[0], self.target[1]]),4)\n",
    "\n",
    "    def set_pbest(self):\n",
    "        for particle in self.particles:\n",
    "            fitness_cadidate = self.fitness(particle)\n",
    "            if(particle.pbest_value > fitness_cadidate):\n",
    "                particle.pbest_value = fitness_cadidate\n",
    "                particle.pbest_position = particle.position\n",
    "            \n",
    "\n",
    "    def set_gbest(self):\n",
    "        self.gbest_value = float('inf')\n",
    "        for particle in self.particles:\n",
    "            best_fitness_cadidate = self.fitness(particle)\n",
    "            if(self.gbest_value > best_fitness_cadidate):\n",
    "                self.gbest_value = best_fitness_cadidate\n",
    "                self.gbest_position = particle.position\n",
    "                self.gbest_track = particle.track\n",
    "                self.gbest_travelled_distance = particle.travelled_distance\n",
    "                self.gbest_time_travelled = particle.time_travelled\n",
    "\n",
    "    def move_particles(self):\n",
    "        for particle in self.particles:\n",
    "            global W\n",
    "            new_velocity = (W*particle.velocity) + (c1*rand.random()) * (particle.pbest_position - particle.position) + \\\n",
    "                            (rand.random()*c2) * (self.gbest_position - particle.position)\n",
    "            particle.velocity = new_velocity\n",
    "#             print('particle velocity:', particle.velocity)\n",
    "            particle.move()\n",
    "    \n",
    "    def plot(self):\n",
    "        # x-axis values \n",
    "        x = [pc.position[0] for pc in self.particles]\n",
    "#         x.append(self.target[0])\n",
    "        # y-axis values \n",
    "        y = [pc.position[1] for pc in self.particles]\n",
    "#         y.append(self.target[1])\n",
    "\n",
    "        # plotting points as a scatter plot \n",
    "        plt.scatter(x, y, label=\"ship\", color= \"red\",  \n",
    "                    marker= \"s\", s=25)\n",
    "        plt.scatter(self.target[0], self.target[1], label=\"destination\", color= \"blue\",  \n",
    "                    marker= \"x\", s=25)\n",
    "\n",
    "        # x-axis label \n",
    "        plt.xlabel('x - axis') \n",
    "        plt.xlim([0, 60])\n",
    "        # frequency label \n",
    "        plt.ylabel('y - axis')\n",
    "        plt.ylim([0, 60])\n",
    "        # plot title \n",
    "        plt.title('2D Map') \n",
    "        # showing legend \n",
    "        plt.legend()\n",
    "        plt.grid(True)\n",
    "\n",
    "        # function to show the plot \n",
    "        plt.show() \n",
    "            \n",
    "\n",
    "            \n",
    "##program start here\n",
    "# n_particles = int(input(\"Inform the number of particles: \"))\n",
    "# n_iterations = int(input(\"Inform the number of iterations: \"))\n",
    "# target_error = float(input(\"Inform the target error: \"))\n",
    "start_time = time.time()\n",
    "n_particles = 5\n",
    "n_iterations = 2\n",
    "min_distance = 0\n",
    "\n",
    "\n",
    "W = 1.0\n",
    "c1 = 0.1\n",
    "c2 = 0.1 \n",
    "speed = 13.75\n",
    "\n",
    "search_space = Space(1, min_distance, n_particles)\n",
    "particles_vector = [Particle() for _ in range(search_space.n_particles)]\n",
    "search_space.particles = particles_vector\n",
    "# search_space.print_particles()\n",
    "print(\"Target destination: \", search_space.target)\n",
    "\n",
    "\n",
    "iteration = 0\n",
    "# time\n",
    "while(iteration < n_iterations):\n",
    "    print(\"--- iteration \", iteration+1, \" ---\")\n",
    "    search_space.plot()\n",
    "    search_space.set_pbest()    \n",
    "    search_space.set_gbest()\n",
    "    search_space.print_particles()\n",
    "\n",
    "    if(search_space.gbest_value <= search_space.min_distance):\n",
    "        break\n",
    "      \n",
    "   \n",
    "    print(\"\\nThe current iteration best solution is:-\")\n",
    "    print(\"\\tPosition: \", search_space.gbest_position)\n",
    "    print(\"\\tDistance from target (km): \", search_space.gbest_value)\n",
    "    print(\"\\tDistance travelled (km): \", search_space.gbest_travelled_distance)\n",
    "    print(\"\\tTotal time travelled (km/h): \", search_space.gbest_time_travelled)\n",
    "    print(\"\\tTrack: \", search_space.gbest_track)\n",
    "    search_space.move_particles()\n",
    "    iteration += 1\n",
    "print(\"\\n--- %s seconds ---\" % (time.time() - start_time))\n",
    "\n"
   ]
  },
  {
   "cell_type": "markdown",
   "metadata": {},
   "source": [
    "# SIDI START HERE"
   ]
  },
  {
   "cell_type": "code",
   "execution_count": 3,
   "metadata": {},
   "outputs": [
    {
     "name": "stdout",
     "output_type": "stream",
     "text": [
      "Target destination:  [31 17]\n",
      "--- iteration  1  ---\n"
     ]
    },
    {
     "data": {
      "image/png": "[encoded data removed]",
      "text/plain": [
       "<Figure size 432x288 with 1 Axes>"
      ]
     },
     "metadata": {
      "needs_background": "light"
     },
     "output_type": "display_data"
    },
    {
     "name": "stdout",
     "output_type": "stream",
     "text": [
      "Position Ship  1 :  [44 30]  new pbest is  [44 30]\n",
      "Position Ship  2 :  [49 21]  new pbest is  [49 21]\n",
      "Position Ship  3 :  [ 5 34]  new pbest is  [ 5 34]\n",
      "Position Ship  4 :  [20 14]  new pbest is  [20 14]\n",
      "Position Ship  5 :  [43 35]  new pbest is  [43 35]\n",
      "Position Ship  6 :  [5 9]  new pbest is  [5 9]\n",
      "Position Ship  7 :  [22  6]  new pbest is  [22  6]\n",
      "Position Ship  8 :  [22 20]  new pbest is  [22 20]\n",
      "Position Ship  9 :  [14 12]  new pbest is  [14 12]\n",
      "Position Ship  10 :  [ 4 21]  new pbest is  [ 4 21]\n",
      "\n",
      "The current iteration best solution is:-\n",
      "\tPosition:  [22 20]\n",
      "\tDistance from target (km):  9.4868\n",
      "\tDistance travelled (km):  0.0\n",
      "\tTotal time travelled (km/h):  0.0\n",
      "\tTrack:  [[22 20]]\n",
      "--- iteration  2  ---\n"
     ]
    },
    {
     "data": {
      "image/png": "[encoded data removed]",
      "text/plain": [
       "<Figure size 432x288 with 1 Axes>"
      ]
     },
     "metadata": {
      "needs_background": "light"
     },
     "output_type": "display_data"
    },
    {
     "name": "stdout",
     "output_type": "stream",
     "text": [
      "Position Ship  1 :  [42.035  29.1068]  new pbest is  [42.035  29.1068]\n",
      "Position Ship  2 :  [48.7598 20.9911]  new pbest is  [48.7598 20.9911]\n",
      "Position Ship  3 :  [ 5.1088 33.9104]  new pbest is  [ 5.1088 33.9104]\n",
      "Position Ship  4 :  [20.0669 14.2006]  new pbest is  [20.0669 14.2006]\n",
      "Position Ship  5 :  [41.2511 33.7508]  new pbest is  [41.2511 33.7508]\n",
      "Position Ship  6 :  [5.5737 9.3712]  new pbest is  [5.5737 9.3712]\n",
      "Position Ship  7 :  [22.      6.6082]  new pbest is  [22.      6.6082]\n",
      "Position Ship  8 :  [22. 20.]  new pbest is  [22 20]\n",
      "Position Ship  9 :  [14.725 12.725]  new pbest is  [14.725 12.725]\n",
      "Position Ship  10 :  [ 4.2279 20.9873]  new pbest is  [ 4.2279 20.9873]\n",
      "\n",
      "The current iteration best solution is:-\n",
      "\tPosition:  [22. 20.]\n",
      "\tDistance from target (km):  9.4868\n",
      "\tDistance travelled (km):  0.0\n",
      "\tTotal time travelled (km/h):  0.0\n",
      "\tTrack:  [[22. 20.]\n",
      " [22. 20.]]\n",
      "--- iteration  3  ---\n"
     ]
    },
    {
     "data": {
      "image/png": "[encoded data removed]",
      "text/plain": [
       "<Figure size 432x288 with 1 Axes>"
      ]
     },
     "metadata": {
      "needs_background": "light"
     },
     "output_type": "display_data"
    },
    {
     "name": "stdout",
     "output_type": "stream",
     "text": [
      "Position Ship  1 :  [38.9999 27.7272]  new pbest is  [38.9999 27.7272]\n",
      "Position Ship  2 :  [46.6937 20.9146]  new pbest is  [46.6937 20.9146]\n",
      "Position Ship  3 :  [ 6.8469 32.479 ]  new pbest is  [ 6.8469 32.479 ]\n",
      "Position Ship  4 :  [20.325  14.9748]  new pbest is  [20.325  14.9748]\n",
      "Position Ship  5 :  [38.4553 31.7538]  new pbest is  [38.4553 31.7538]\n",
      "Position Ship  6 :  [ 6.9975 10.2925]  new pbest is  [ 6.9975 10.2925]\n",
      "Position Ship  7 :  [22.     8.119]  new pbest is  [22.     8.119]\n",
      "Position Ship  8 :  [22. 20.]  new pbest is  [22 20]\n",
      "Position Ship  9 :  [16.0738 14.0738]  new pbest is  [16.0738 14.0738]\n",
      "Position Ship  10 :  [ 4.7228 20.9598]  new pbest is  [ 4.7228 20.9598]\n",
      "\n",
      "The current iteration best solution is:-\n",
      "\tPosition:  [22. 20.]\n",
      "\tDistance from target (km):  9.4868\n",
      "\tDistance travelled (km):  0.0\n",
      "\tTotal time travelled (km/h):  0.0\n",
      "\tTrack:  [[22. 20.]\n",
      " [22. 20.]\n",
      " [22. 20.]]\n",
      "--- iteration  4  ---\n"
     ]
    },
    {
     "data": {
      "image/png": "[encoded data removed]",
      "text/plain": [
       "<Figure size 432x288 with 1 Axes>"
      ]
     },
     "metadata": {
      "needs_background": "light"
     },
     "output_type": "display_data"
    },
    {
     "name": "stdout",
     "output_type": "stream",
     "text": [
      "Position Ship  1 :  [34.4268 25.6485]  new pbest is  [34.4268 25.6485]\n",
      "Position Ship  2 :  [43.4603 20.7949]  new pbest is  [43.4603 20.7949]\n",
      "Position Ship  3 :  [ 9.5761 30.2314]  new pbest is  [ 9.5761 30.2314]\n",
      "Position Ship  4 :  [20.746  16.2376]  new pbest is  [20.746  16.2376]\n",
      "Position Ship  5 :  [34.7167 29.0834]  new pbest is  [34.7167 29.0834]\n",
      "Position Ship  6 :  [ 8.8056 11.4624]  new pbest is  [ 8.8056 11.4624]\n",
      "Position Ship  7 :  [22.     10.0289]  new pbest is  [22.     10.0289]\n",
      "Position Ship  8 :  [22. 20.]  new pbest is  [22 20]\n",
      "Position Ship  9 :  [17.8066 15.8066]  new pbest is  [17.8066 15.8066]\n",
      "Position Ship  10 :  [ 5.6705 20.9071]  new pbest is  [ 5.6705 20.9071]\n",
      "\n",
      "The current iteration best solution is:-\n",
      "\tPosition:  [34.4268 25.6485]\n",
      "\tDistance from target (km):  9.3027\n",
      "\tDistance travelled (km):  10.515783874272616\n",
      "\tTotal time travelled (km/h):  0.7647842817652811\n",
      "\tTrack:  [[44.     30.    ]\n",
      " [42.035  29.1068]\n",
      " [38.9999 27.7272]\n",
      " [34.4268 25.6485]]\n",
      "--- iteration  5  ---\n"
     ]
    },
    {
     "data": {
      "image/png": "[encoded data removed]",
      "text/plain": [
       "<Figure size 432x288 with 1 Axes>"
      ]
     },
     "metadata": {
      "needs_background": "light"
     },
     "output_type": "display_data"
    },
    {
     "name": "stdout",
     "output_type": "stream",
     "text": [
      "Position Ship  1 :  [29.8537 23.5698]  new pbest is  [29.8537 23.5698]\n",
      "Position Ship  2 :  [39.8739 20.8649]  new pbest is  [39.8739 20.8649]\n",
      "Position Ship  3 :  [12.6064 27.9283]  new pbest is  [12.6064 27.9283]\n",
      "Position Ship  4 :  [22.2325 18.2334]  new pbest is  [22.2325 18.2334]\n",
      "Position Ship  5 :  [30.9587 26.1836]  new pbest is  [30.9587 26.1836]\n",
      "Position Ship  6 :  [11.4014 13.0684]  new pbest is  [11.4014 13.0684]\n",
      "Position Ship  7 :  [22.6704 12.7815]  new pbest is  [22.6704 12.7815]\n",
      "Position Ship  8 :  [23.1073 20.5033]  new pbest is  [23.1073 20.5033]\n",
      "Position Ship  9 :  [19.8053 17.6968]  new pbest is  [19.8053 17.6968]\n",
      "Position Ship  10 :  [ 9.4603 21.323 ]  new pbest is  [ 9.4603 21.323 ]\n",
      "\n",
      "The current iteration best solution is:-\n",
      "\tPosition:  [29.8537 23.5698]\n",
      "\tDistance from target (km):  6.6691\n",
      "\tDistance travelled (km):  15.539152992702995\n",
      "\tTotal time travelled (km/h):  1.130120217651127\n",
      "\tTrack:  [[44.     30.    ]\n",
      " [42.035  29.1068]\n",
      " [38.9999 27.7272]\n",
      " [34.4268 25.6485]\n",
      " [29.8537 23.5698]]\n",
      "--- iteration  6  ---\n"
     ]
    },
    {
     "data": {
      "image/png": "[encoded data removed]",
      "text/plain": [
       "<Figure size 432x288 with 1 Axes>"
      ]
     },
     "metadata": {
      "needs_background": "light"
     },
     "output_type": "display_data"
    },
    {
     "name": "stdout",
     "output_type": "stream",
     "text": [
      "Position Ship  1 :  [25.2806 21.4911]  new pbest is  [29.8537 23.5698]\n",
      "Position Ship  2 :  [35.3034 21.2006]  new pbest is  [35.3034 21.2006]\n",
      "Position Ship  3 :  [16.8201 25.3261]  new pbest is  [16.8201 25.3261]\n",
      "Position Ship  4 :  [23.9899 20.4189]  new pbest is  [23.9899 20.4189]\n",
      "Position Ship  5 :  [27.1949 23.27  ]  new pbest is  [27.1949 23.27  ]\n",
      "Position Ship  6 :  [15.3028 15.4174]  new pbest is  [15.3028 15.4174]\n",
      "Position Ship  7 :  [23.764  16.1696]  new pbest is  [23.764  16.1696]\n",
      "Position Ship  8 :  [24.4873 21.1305]  new pbest is  [24.4873 21.1305]\n",
      "Position Ship  9 :  [21.9579 19.677 ]  new pbest is  [21.9579 19.677 ]\n",
      "Position Ship  10 :  [14.3156 21.8563]  new pbest is  [14.3156 21.8563]\n",
      "\n",
      "The current iteration best solution is:-\n",
      "\tPosition:  [35.3034 21.2006]\n",
      "\tDistance from target (km):  6.0137\n",
      "\tDistance travelled (km):  13.713390429422809\n",
      "\tTotal time travelled (km/h):  0.9973374857762043\n",
      "\tTrack:  [[49.     21.    ]\n",
      " [48.7598 20.9911]\n",
      " [46.6937 20.9146]\n",
      " [43.4603 20.7949]\n",
      " [39.8739 20.8649]\n",
      " [35.3034 21.2006]]\n",
      "--- iteration  7  ---\n"
     ]
    },
    {
     "data": {
      "image/png": "[encoded data removed]",
      "text/plain": [
       "<Figure size 432x288 with 1 Axes>"
      ]
     },
     "metadata": {
      "needs_background": "light"
     },
     "output_type": "display_data"
    },
    {
     "name": "stdout",
     "output_type": "stream",
     "text": [
      "Position Ship  1 :  [21.4883 19.4524]  new pbest is  [29.8537 23.5698]\n",
      "Position Ship  2 :  [30.7329 21.5363]  new pbest is  [30.7329 21.5363]\n",
      "Position Ship  3 :  [22.5757 22.3797]  new pbest is  [22.5757 22.3797]\n",
      "Position Ship  4 :  [26.0692 22.6266]  new pbest is  [26.0692 22.6266]\n",
      "Position Ship  5 :  [23.6864 20.2912]  new pbest is  [27.1949 23.27  ]\n",
      "Position Ship  6 :  [20.8255 18.2352]  new pbest is  [20.8255 18.2352]\n",
      "Position Ship  7 :  [25.4871 19.8322]  new pbest is  [25.4871 19.8322]\n",
      "Position Ship  8 :  [25.9412 21.7582]  new pbest is  [25.9412 21.7582]\n",
      "Position Ship  9 :  [24.9469 21.7527]  new pbest is  [24.9469 21.7527]\n",
      "Position Ship  10 :  [19.6961 22.3732]  new pbest is  [19.6961 22.3732]\n",
      "\n",
      "The current iteration best solution is:-\n",
      "\tPosition:  [30.7329 21.5363]\n",
      "\tDistance from target (km):  4.5442\n",
      "\tDistance travelled (km):  18.296202310789965\n",
      "\tTotal time travelled (km/h):  1.3306328953301794\n",
      "\tTrack:  [[49.     21.    ]\n",
      " [48.7598 20.9911]\n",
      " [46.6937 20.9146]\n",
      " [43.4603 20.7949]\n",
      " [39.8739 20.8649]\n",
      " [35.3034 21.2006]\n",
      " [30.7329 21.5363]]\n",
      "--- iteration  8  ---\n"
     ]
    },
    {
     "data": {
      "image/png": "[encoded data removed]",
      "text/plain": [
       "<Figure size 432x288 with 1 Axes>"
      ]
     },
     "metadata": {
      "needs_background": "light"
     },
     "output_type": "display_data"
    },
    {
     "name": "stdout",
     "output_type": "stream",
     "text": [
      "Position Ship  1 :  [18.9183 17.8644]  new pbest is  [29.8537 23.5698]\n",
      "Position Ship  2 :  [26.1624 21.872 ]  new pbest is  [30.7329 21.5363]\n",
      "Position Ship  3 :  [28.8682 19.3778]  new pbest is  [28.8682 19.3778]\n",
      "Position Ship  4 :  [28.2875 24.8018]  new pbest is  [26.0692 22.6266]\n",
      "Position Ship  5 :  [20.9162 17.5012]  new pbest is  [27.1949 23.27  ]\n",
      "Position Ship  6 :  [26.5876 21.1328]  new pbest is  [26.5876 21.1328]\n",
      "Position Ship  7 :  [27.5901 23.6182]  new pbest is  [25.4871 19.8322]\n",
      "Position Ship  8 :  [27.7458 22.3697]  new pbest is  [27.7458 22.3697]\n",
      "Position Ship  9 :  [27.994  23.8262]  new pbest is  [27.994  23.8262]\n",
      "Position Ship  10 :  [25.5579 22.8536]  new pbest is  [25.5579 22.8536]\n",
      "\n",
      "The current iteration best solution is:-\n",
      "\tPosition:  [28.8682 19.3778]\n",
      "\tDistance from target (km):  3.1935\n",
      "\tDistance travelled (km):  28.124574569678288\n",
      "\tTotal time travelled (km/h):  2.0454236050675116\n",
      "\tTrack:  [[ 5.     34.    ]\n",
      " [ 5.1088 33.9104]\n",
      " [ 6.8469 32.479 ]\n",
      " [ 9.5761 30.2314]\n",
      " [12.6064 27.9283]\n",
      " [16.8201 25.3261]\n",
      " [22.5757 22.3797]\n",
      " [28.8682 19.3778]]\n",
      "--- iteration  9  ---\n"
     ]
    },
    {
     "data": {
      "image/png": "[encoded data removed]",
      "text/plain": [
       "<Figure size 432x288 with 1 Axes>"
      ]
     },
     "metadata": {
      "needs_background": "light"
     },
     "output_type": "display_data"
    },
    {
     "name": "stdout",
     "output_type": "stream",
     "text": [
      "Position Ship  1 :  [16.9863 16.4655]  new pbest is  [29.8537 23.5698]\n",
      "Position Ship  2 :  [21.8533 22.1773]  new pbest is  [30.7329 21.5363]\n",
      "Position Ship  3 :  [35.1607 16.3759]  new pbest is  [28.8682 19.3778]\n",
      "Position Ship  4 :  [30.5133 26.5226]  new pbest is  [26.0692 22.6266]\n",
      "Position Ship  5 :  [18.4887 15.0095]  new pbest is  [27.1949 23.27  ]\n",
      "Position Ship  6 :  [32.462 23.944]  new pbest is  [26.5876 21.1328]\n",
      "Position Ship  7 :  [29.6038 26.9369]  new pbest is  [25.4871 19.8322]\n",
      "Position Ship  8 :  [29.6105 22.8209]  new pbest is  [29.6105 22.8209]\n",
      "Position Ship  9 :  [31.0512 25.8483]  new pbest is  [27.994  23.8262]\n",
      "Position Ship  10 :  [31.5376 23.2103]  new pbest is  [31.5376 23.2103]\n",
      "\n",
      "The current iteration best solution is:-\n",
      "\tPosition:  [35.1607 16.3759]\n",
      "\tDistance from target (km):  4.2072\n",
      "\tDistance travelled (km):  35.09644374946071\n",
      "\tTotal time travelled (km/h):  2.5524686363244156\n",
      "\tTrack:  [[ 5.     34.    ]\n",
      " [ 5.1088 33.9104]\n",
      " [ 6.8469 32.479 ]\n",
      " [ 9.5761 30.2314]\n",
      " [12.6064 27.9283]\n",
      " [16.8201 25.3261]\n",
      " [22.5757 22.3797]\n",
      " [28.8682 19.3778]\n",
      " [35.1607 16.3759]]\n",
      "--- iteration  10  ---\n"
     ]
    },
    {
     "data": {
      "image/png": "[encoded data removed]",
      "text/plain": [
       "<Figure size 432x288 with 1 Axes>"
      ]
     },
     "metadata": {
      "needs_background": "light"
     },
     "output_type": "display_data"
    },
    {
     "name": "stdout",
     "output_type": "stream",
     "text": [
      "Position Ship  1 :  [17.9163 15.768 ]  new pbest is  [29.8537 23.5698]\n",
      "Position Ship  2 :  [17.8863 22.406 ]  new pbest is  [30.7329 21.5363]\n",
      "Position Ship  3 :  [40.9378 13.6199]  new pbest is  [28.8682 19.3778]\n",
      "Position Ship  4 :  [32.8623 26.9841]  new pbest is  [26.0692 22.6266]\n",
      "Position Ship  5 :  [17.6138 12.7741]  new pbest is  [27.1949 23.27  ]\n",
      "Position Ship  6 :  [38.0016 26.5035]  new pbest is  [26.5876 21.1328]\n",
      "Position Ship  7 :  [32.007  29.3893]  new pbest is  [25.4871 19.8322]\n",
      "Position Ship  8 :  [31.9445 22.7271]  new pbest is  [31.9445 22.7271]\n",
      "Position Ship  9 :  [34.291  27.4106]  new pbest is  [27.994  23.8262]\n",
      "Position Ship  10 :  [37.7998 23.0342]  new pbest is  [31.5376 23.2103]\n",
      "\n",
      "The current iteration best solution is:-\n",
      "\tPosition:  [31.9445 22.7271]\n",
      "\tDistance from target (km):  5.8045\n",
      "\tDistance travelled (km):  10.475559017204894\n",
      "\tTotal time travelled (km/h):  0.7618588376149014\n",
      "\tTrack:  [[22.     20.    ]\n",
      " [22.     20.    ]\n",
      " [22.     20.    ]\n",
      " [22.     20.    ]\n",
      " [23.1073 20.5033]\n",
      " [24.4873 21.1305]\n",
      " [25.9412 21.7582]\n",
      " [27.7458 22.3697]\n",
      " [29.6105 22.8209]\n",
      " [31.9445 22.7271]]\n",
      "--- iteration  11  ---\n"
     ]
    },
    {
     "data": {
      "image/png": "[encoded data removed]",
      "text/plain": [
       "<Figure size 432x288 with 1 Axes>"
      ]
     },
     "metadata": {
      "needs_background": "light"
     },
     "output_type": "display_data"
    },
    {
     "name": "stdout",
     "output_type": "stream",
     "text": [
      "Position Ship  1 :  [20.1206 15.8015]  new pbest is  [29.8537 23.5698]\n",
      "Position Ship  2 :  [15.8265 22.6253]  new pbest is  [30.7329 21.5363]\n",
      "Position Ship  3 :  [45.1938 11.8446]  new pbest is  [28.8682 19.3778]\n",
      "Position Ship  4 :  [35.0608 27.0762]  new pbest is  [26.0692 22.6266]\n",
      "Position Ship  5 :  [17.9904 11.7701]  new pbest is  [27.1949 23.27  ]\n",
      "Position Ship  6 :  [43.3581 28.976 ]  new pbest is  [26.5876 21.1328]\n",
      "Position Ship  7 :  [34.2153 30.9272]  new pbest is  [25.4871 19.8322]\n",
      "Position Ship  8 :  [34.2785 22.6333]  new pbest is  [31.9445 22.7271]\n",
      "Position Ship  9 :  [36.8456 28.2615]  new pbest is  [27.994  23.8262]\n",
      "Position Ship  10 :  [43.7357 22.86  ]  new pbest is  [31.5376 23.2103]\n",
      "\n",
      "The current iteration best solution is:-\n",
      "\tPosition:  [34.2785 22.6333]\n",
      "\tDistance from target (km):  6.5179\n",
      "\tDistance travelled (km):  12.811443098232893\n",
      "\tTotal time travelled (km/h):  0.9317413162351195\n",
      "\tTrack:  [[22.     20.    ]\n",
      " [22.     20.    ]\n",
      " [22.     20.    ]\n",
      " [22.     20.    ]\n",
      " [23.1073 20.5033]\n",
      " [24.4873 21.1305]\n",
      " [25.9412 21.7582]\n",
      " [27.7458 22.3697]\n",
      " [29.6105 22.8209]\n",
      " [31.9445 22.7271]\n",
      " [34.2785 22.6333]]\n",
      "--- iteration  12  ---\n"
     ]
    },
    {
     "data": {
      "image/png": "[encoded data removed]",
      "text/plain": [
       "<Figure size 432x288 with 1 Axes>"
      ]
     },
     "metadata": {
      "needs_background": "light"
     },
     "output_type": "display_data"
    },
    {
     "name": "stdout",
     "output_type": "stream",
     "text": [
      "Position Ship  1 :  [23.2082 16.3034]  new pbest is  [29.8537 23.5698]\n",
      "Position Ship  2 :  [14.8584 22.8019]  new pbest is  [30.7329 21.5363]\n",
      "Position Ship  3 :  [47.9765 10.9439]  new pbest is  [28.8682 19.3778]\n",
      "Position Ship  4 :  [36.8767 26.6034]  new pbest is  [26.0692 22.6266]\n",
      "Position Ship  5 :  [20.5296 12.6502]  new pbest is  [27.1949 23.27  ]\n",
      "Position Ship  6 :  [47.9162 30.9181]  new pbest is  [26.5876 21.1328]\n",
      "Position Ship  7 :  [35.9616 31.4314]  new pbest is  [25.4871 19.8322]\n",
      "Position Ship  8 :  [36.485  22.5446]  new pbest is  [31.9445 22.7271]\n",
      "Position Ship  9 :  [38.8995 28.6258]  new pbest is  [27.994  23.8262]\n",
      "Position Ship  10 :  [49.0152 22.6976]  new pbest is  [31.5376 23.2103]\n",
      "\n",
      "The current iteration best solution is:-\n",
      "\tPosition:  [36.485  22.5446]\n",
      "\tDistance from target (km):  7.7992\n",
      "\tDistance travelled (km):  15.01972522241902\n",
      "\tTotal time travelled (km/h):  1.0923436525395651\n",
      "\tTrack:  [[22.     20.    ]\n",
      " [22.     20.    ]\n",
      " [22.     20.    ]\n",
      " [22.     20.    ]\n",
      " [23.1073 20.5033]\n",
      " [24.4873 21.1305]\n",
      " [25.9412 21.7582]\n",
      " [27.7458 22.3697]\n",
      " [29.6105 22.8209]\n",
      " [31.9445 22.7271]\n",
      " [34.2785 22.6333]\n",
      " [36.485  22.5446]]\n",
      "--- iteration  13  ---\n"
     ]
    },
    {
     "data": {
      "image/png": "[encoded data removed]",
      "text/plain": [
       "<Figure size 432x288 with 1 Axes>"
      ]
     },
     "metadata": {
      "needs_background": "light"
     },
     "output_type": "display_data"
    },
    {
     "name": "stdout",
     "output_type": "stream",
     "text": [
      "Position Ship  1 :  [27.7251 17.7151]  new pbest is  [27.7251 17.7151]\n",
      "Position Ship  2 :  [16.1979 22.8612]  new pbest is  [30.7329 21.5363]\n",
      "Position Ship  3 :  [49.7417 10.7102]  new pbest is  [28.8682 19.3778]\n",
      "Position Ship  4 :  [38.5113 25.9679]  new pbest is  [26.0692 22.6266]\n",
      "Position Ship  5 :  [24.5462 14.6756]  new pbest is  [24.5462 14.6756]\n",
      "Position Ship  6 :  [50.4307 31.8452]  new pbest is  [26.5876 21.1328]\n",
      "Position Ship  7 :  [36.7784 30.4326]  new pbest is  [25.4871 19.8322]\n",
      "Position Ship  8 :  [38.3588 22.4693]  new pbest is  [31.9445 22.7271]\n",
      "Position Ship  9 :  [40.215  28.3252]  new pbest is  [27.994  23.8262]\n",
      "Position Ship  10 :  [51.9808 22.5795]  new pbest is  [31.5376 23.2103]\n",
      "\n",
      "The current iteration best solution is:-\n",
      "\tPosition:  [27.7251 17.7151]\n",
      "\tDistance from target (km):  3.3521\n",
      "\tDistance travelled (km):  41.501938095837474\n",
      "\tTotal time travelled (km/h):  3.018322770606362\n",
      "\tTrack:  [[44.     30.    ]\n",
      " [42.035  29.1068]\n",
      " [38.9999 27.7272]\n",
      " [34.4268 25.6485]\n",
      " [29.8537 23.5698]\n",
      " [25.2806 21.4911]\n",
      " [21.4883 19.4524]\n",
      " [18.9183 17.8644]\n",
      " [16.9863 16.4655]\n",
      " [17.9163 15.768 ]\n",
      " [20.1206 15.8015]\n",
      " [23.2082 16.3034]\n",
      " [27.7251 17.7151]]\n",
      "--- iteration  14  ---\n"
     ]
    },
    {
     "data": {
      "image/png": "[encoded data removed]",
      "text/plain": [
       "<Figure size 432x288 with 1 Axes>"
      ]
     },
     "metadata": {
      "needs_background": "light"
     },
     "output_type": "display_data"
    },
    {
     "name": "stdout",
     "output_type": "stream",
     "text": [
      "Position Ship  1 :  [32.242  19.1268]  new pbest is  [32.242  19.1268]\n",
      "Position Ship  2 :  [18.808  22.4538]  new pbest is  [30.7329 21.5363]\n",
      "Position Ship  3 :  [48.3729 11.5879]  new pbest is  [28.8682 19.3778]\n",
      "Position Ship  4 :  [38.6709 24.7265]  new pbest is  [26.0692 22.6266]\n",
      "Position Ship  5 :  [28.8552 16.9806]  new pbest is  [28.8552 16.9806]\n",
      "Position Ship  6 :  [49.1438 30.7909]  new pbest is  [26.5876 21.1328]\n",
      "Position Ship  7 :  [36.4625 27.9892]  new pbest is  [25.4871 19.8322]\n",
      "Position Ship  8 :  [39.2265 22.2133]  new pbest is  [31.9445 22.7271]\n",
      "Position Ship  9 :  [41.0351 27.6359]  new pbest is  [27.994  23.8262]\n",
      "Position Ship  10 :  [54.3423 22.456 ]  new pbest is  [31.5376 23.2103]\n",
      "\n",
      "The current iteration best solution is:-\n",
      "\tPosition:  [28.8552 16.9806]\n",
      "\tDistance from target (km):  2.1449\n",
      "\tDistance travelled (km):  47.24404427354102\n",
      "\tTotal time travelled (km/h):  3.435930492621165\n",
      "\tTrack:  [[43.     35.    ]\n",
      " [41.2511 33.7508]\n",
      " [38.4553 31.7538]\n",
      " [34.7167 29.0834]\n",
      " [30.9587 26.1836]\n",
      " [27.1949 23.27  ]\n",
      " [23.6864 20.2912]\n",
      " [20.9162 17.5012]\n",
      " [18.4887 15.0095]\n",
      " [17.6138 12.7741]\n",
      " [17.9904 11.7701]\n",
      " [20.5296 12.6502]\n",
      " [24.5462 14.6756]\n",
      " [28.8552 16.9806]]\n",
      "--- iteration  15  ---\n"
     ]
    },
    {
     "data": {
      "image/png": "[encoded data removed]",
      "text/plain": [
       "<Figure size 432x288 with 1 Axes>"
      ]
     },
     "metadata": {
      "needs_background": "light"
     },
     "output_type": "display_data"
    },
    {
     "name": "stdout",
     "output_type": "stream",
     "text": [
      "Position Ship  1 :  [36.5442 20.4024]  new pbest is  [32.242  19.1268]\n",
      "Position Ship  2 :  [22.6701 21.7356]  new pbest is  [30.7329 21.5363]\n",
      "Position Ship  3 :  [45.2654 13.03  ]  new pbest is  [28.8682 19.3778]\n",
      "Position Ship  4 :  [38.2094 23.1332]  new pbest is  [26.0692 22.6266]\n",
      "Position Ship  5 :  [33.1642 19.2856]  new pbest is  [28.8552 16.9806]\n",
      "Position Ship  6 :  [47.1606 29.28  ]  new pbest is  [26.5876 21.1328]\n",
      "Position Ship  7 :  [34.9677 24.318 ]  new pbest is  [25.4871 19.8322]\n",
      "Position Ship  8 :  [38.7441 21.6202]  new pbest is  [31.9445 22.7271]\n",
      "Position Ship  9 :  [39.7946 25.7298]  new pbest is  [27.994  23.8262]\n",
      "Position Ship  10 :  [55.8329 22.3529]  new pbest is  [31.5376 23.2103]\n",
      "\n",
      "The current iteration best solution is:-\n",
      "\tPosition:  [33.1642 19.2856]\n",
      "\tDistance from target (km):  3.1477\n",
      "\tDistance travelled (km):  52.13081273541846\n",
      "\tTotal time travelled (km/h):  3.791331835303161\n",
      "\tTrack:  [[43.     35.    ]\n",
      " [41.2511 33.7508]\n",
      " [38.4553 31.7538]\n",
      " [34.7167 29.0834]\n",
      " [30.9587 26.1836]\n",
      " [27.1949 23.27  ]\n",
      " [23.6864 20.2912]\n",
      " [20.9162 17.5012]\n",
      " [18.4887 15.0095]\n",
      " [17.6138 12.7741]\n",
      " [17.9904 11.7701]\n",
      " [20.5296 12.6502]\n",
      " [24.5462 14.6756]\n",
      " [28.8552 16.9806]\n",
      " [33.1642 19.2856]]\n",
      "--- iteration  16  ---\n"
     ]
    },
    {
     "data": {
      "image/png": "[encoded data removed]",
      "text/plain": [
       "<Figure size 432x288 with 1 Axes>"
      ]
     },
     "metadata": {
      "needs_background": "light"
     },
     "output_type": "display_data"
    },
    {
     "name": "stdout",
     "output_type": "stream",
     "text": [
      "Position Ship  1 :  [40.621  21.6045]  new pbest is  [32.242  19.1268]\n",
      "Position Ship  2 :  [27.587  20.8377]  new pbest is  [30.7329 21.5363]\n",
      "Position Ship  3 :  [40.2149 15.3361]  new pbest is  [28.8682 19.3778]\n",
      "Position Ship  4 :  [36.9324 21.3536]  new pbest is  [36.9324 21.3536]\n",
      "Position Ship  5 :  [37.238  21.4648]  new pbest is  [28.8552 16.9806]\n",
      "Position Ship  6 :  [44.507  27.3774]  new pbest is  [26.5876 21.1328]\n",
      "Position Ship  7 :  [33.289  20.1709]  new pbest is  [33.289  20.1709]\n",
      "Position Ship  8 :  [37.5914 20.8456]  new pbest is  [31.9445 22.7271]\n",
      "Position Ship  9 :  [37.3215 23.3448]  new pbest is  [27.994  23.8262]\n",
      "Position Ship  10 :  [55.9568 22.2873]  new pbest is  [31.5376 23.2103]\n",
      "\n",
      "The current iteration best solution is:-\n",
      "\tPosition:  [33.289  20.1709]\n",
      "\tDistance from target (km):  3.9108\n",
      "\tDistance travelled (km):  42.81668533177111\n",
      "\tTotal time travelled (km/h):  3.1139407514015356\n",
      "\tTrack:  [[22.      6.    ]\n",
      " [22.      6.6082]\n",
      " [22.      8.119 ]\n",
      " [22.     10.0289]\n",
      " [22.6704 12.7815]\n",
      " [23.764  16.1696]\n",
      " [25.4871 19.8322]\n",
      " [27.5901 23.6182]\n",
      " [29.6038 26.9369]\n",
      " [32.007  29.3893]\n",
      " [34.2153 30.9272]\n",
      " [35.9616 31.4314]\n",
      " [36.7784 30.4326]\n",
      " [36.4625 27.9892]\n",
      " [34.9677 24.318 ]\n",
      " [33.289  20.1709]]\n",
      "--- iteration  17  ---\n"
     ]
    },
    {
     "data": {
      "image/png": "[encoded data removed]",
      "text/plain": [
       "<Figure size 432x288 with 1 Axes>"
      ]
     },
     "metadata": {
      "needs_background": "light"
     },
     "output_type": "display_data"
    },
    {
     "name": "stdout",
     "output_type": "stream",
     "text": [
      "Position Ship  1 :  [43.8833 22.6321]  new pbest is  [32.242  19.1268]\n",
      "Position Ship  2 :  [32.7422 19.9358]  new pbest is  [32.7422 19.9358]\n",
      "Position Ship  3 :  [33.6618 18.335 ]  new pbest is  [33.6618 18.335 ]\n",
      "Position Ship  4 :  [35.3883 19.4873]  new pbest is  [35.3883 19.4873]\n",
      "Position Ship  5 :  [40.937  23.4814]  new pbest is  [28.8552 16.9806]\n",
      "Position Ship  6 :  [39.7735 24.4658]  new pbest is  [26.5876 21.1328]\n",
      "Position Ship  7 :  [31.6103 16.0238]  new pbest is  [31.6103 16.0238]\n",
      "Position Ship  8 :  [35.9252 20.1832]  new pbest is  [31.9445 22.7271]\n",
      "Position Ship  9 :  [34.1724 20.8758]  new pbest is  [34.1724 20.8758]\n",
      "Position Ship  10 :  [53.6561 22.2426]  new pbest is  [31.5376 23.2103]\n",
      "\n",
      "The current iteration best solution is:-\n",
      "\tPosition:  [31.6103 16.0238]\n",
      "\tDistance from target (km):  1.1513\n",
      "\tDistance travelled (km):  47.29066254449806\n",
      "\tTotal time travelled (km/h):  3.439320912327132\n",
      "\tTrack:  [[22.      6.    ]\n",
      " [22.      6.6082]\n",
      " [22.      8.119 ]\n",
      " [22.     10.0289]\n",
      " [22.6704 12.7815]\n",
      " [23.764  16.1696]\n",
      " [25.4871 19.8322]\n",
      " [27.5901 23.6182]\n",
      " [29.6038 26.9369]\n",
      " [32.007  29.3893]\n",
      " [34.2153 30.9272]\n",
      " [35.9616 31.4314]\n",
      " [36.7784 30.4326]\n",
      " [36.4625 27.9892]\n",
      " [34.9677 24.318 ]\n",
      " [33.289  20.1709]\n",
      " [31.6103 16.0238]]\n",
      "--- iteration  18  ---\n"
     ]
    },
    {
     "data": {
      "image/png": "[encoded data removed]",
      "text/plain": [
       "<Figure size 432x288 with 1 Axes>"
      ]
     },
     "metadata": {
      "needs_background": "light"
     },
     "output_type": "display_data"
    },
    {
     "name": "stdout",
     "output_type": "stream",
     "text": [
      "Position Ship  1 :  [45.5606 23.0332]  new pbest is  [32.242  19.1268]\n",
      "Position Ship  2 :  [37.8385 18.8303]  new pbest is  [32.7422 19.9358]\n",
      "Position Ship  3 :  [27.0631 21.2826]  new pbest is  [33.6618 18.335 ]\n",
      "Position Ship  4 :  [33.6355 17.4297]  new pbest is  [33.6355 17.4297]\n",
      "Position Ship  5 :  [43.1248 24.5517]  new pbest is  [28.8552 16.9806]\n",
      "Position Ship  6 :  [34.8263 21.4323]  new pbest is  [34.8263 21.4323]\n",
      "Position Ship  7 :  [29.9316 11.8767]  new pbest is  [31.6103 16.0238]\n",
      "Position Ship  8 :  [33.6559 19.2732]  new pbest is  [33.6559 19.2732]\n",
      "Position Ship  9 :  [30.9429 18.2546]  new pbest is  [30.9429 18.2546]\n",
      "Position Ship  10 :  [49.9953 21.9008]  new pbest is  [31.5376 23.2103]\n",
      "\n",
      "The current iteration best solution is:-\n",
      "\tPosition:  [30.9429 18.2546]\n",
      "\tDistance from target (km):  1.2559\n",
      "\tDistance travelled (km):  46.71632388830835\n",
      "\tTotal time travelled (km/h):  3.3975508282406075\n",
      "\tTrack:  [[14.     12.    ]\n",
      " [14.725  12.725 ]\n",
      " [16.0738 14.0738]\n",
      " [17.8066 15.8066]\n",
      " [19.8053 17.6968]\n",
      " [21.9579 19.677 ]\n",
      " [24.9469 21.7527]\n",
      " [27.994  23.8262]\n",
      " [31.0512 25.8483]\n",
      " [34.291  27.4106]\n",
      " [36.8456 28.2615]\n",
      " [38.8995 28.6258]\n",
      " [40.215  28.3252]\n",
      " [41.0351 27.6359]\n",
      " [39.7946 25.7298]\n",
      " [37.3215 23.3448]\n",
      " [34.1724 20.8758]\n",
      " [30.9429 18.2546]]\n",
      "--- iteration  19  ---\n"
     ]
    },
    {
     "data": {
      "image/png": "[encoded data removed]",
      "text/plain": [
       "<Figure size 432x288 with 1 Axes>"
      ]
     },
     "metadata": {
      "needs_background": "light"
     },
     "output_type": "display_data"
    },
    {
     "name": "stdout",
     "output_type": "stream",
     "text": [
      "Position Ship  1 :  [47.0075 23.3663]  new pbest is  [32.242  19.1268]\n",
      "Position Ship  2 :  [42.9008 17.7272]  new pbest is  [32.7422 19.9358]\n",
      "Position Ship  3 :  [20.9587 23.9983]  new pbest is  [33.6618 18.335 ]\n",
      "Position Ship  4 :  [31.7632 15.4087]  new pbest is  [31.7632 15.4087]\n",
      "Position Ship  5 :  [44.2195 25.0462]  new pbest is  [28.8552 16.9806]\n",
      "Position Ship  6 :  [29.8768 18.3969]  new pbest is  [29.8768 18.3969]\n",
      "Position Ship  7 :  [28.4704  8.5878]  new pbest is  [31.6103 16.0238]\n",
      "Position Ship  8 :  [31.2212 18.3011]  new pbest is  [31.2212 18.3011]\n",
      "Position Ship  9 :  [27.7134 15.6334]  new pbest is  [30.9429 18.2546]\n",
      "Position Ship  10 :  [44.907  21.6329]  new pbest is  [31.5376 23.2103]\n",
      "\n",
      "The current iteration best solution is:-\n",
      "\tPosition:  [31.2212 18.3011]\n",
      "\tDistance from target (km):  1.3198\n",
      "\tDistance travelled (km):  26.812600900474507\n",
      "\tTotal time travelled (km/h):  1.9500073382163279\n",
      "\tTrack:  [[22.     20.    ]\n",
      " [22.     20.    ]\n",
      " [22.     20.    ]\n",
      " [22.     20.    ]\n",
      " [23.1073 20.5033]\n",
      " [24.4873 21.1305]\n",
      " [25.9412 21.7582]\n",
      " [27.7458 22.3697]\n",
      " [29.6105 22.8209]\n",
      " [31.9445 22.7271]\n",
      " [34.2785 22.6333]\n",
      " [36.485  22.5446]\n",
      " [38.3588 22.4693]\n",
      " [39.2265 22.2133]\n",
      " [38.7441 21.6202]\n",
      " [37.5914 20.8456]\n",
      " [35.9252 20.1832]\n",
      " [33.6559 19.2732]\n",
      " [31.2212 18.3011]]\n",
      "--- iteration  20  ---\n"
     ]
    },
    {
     "data": {
      "image/png": "[encoded data removed]",
      "text/plain": [
       "<Figure size 432x288 with 1 Axes>"
      ]
     },
     "metadata": {
      "needs_background": "light"
     },
     "output_type": "display_data"
    },
    {
     "name": "stdout",
     "output_type": "stream",
     "text": [
      "Position Ship  1 :  [46.7677 23.1892]  new pbest is  [32.242  19.1268]\n",
      "Position Ship  2 :  [46.5522 16.8228]  new pbest is  [32.7422 19.9358]\n",
      "Position Ship  3 :  [14.8965 26.6947]  new pbest is  [33.6618 18.335 ]\n",
      "Position Ship  4 :  [29.8656 13.5229]  new pbest is  [31.7632 15.4087]\n",
      "Position Ship  5 :  [43.9782 24.8408]  new pbest is  [28.8552 16.9806]\n",
      "Position Ship  6 :  [24.9878 15.3572]  new pbest is  [29.8768 18.3969]\n",
      "Position Ship  7 :  [27.4595  6.5986]  new pbest is  [31.6103 16.0238]\n",
      "Position Ship  8 :  [28.7865 17.329 ]  new pbest is  [31.2212 18.3011]\n",
      "Position Ship  9 :  [24.9651 13.3869]  new pbest is  [30.9429 18.2546]\n",
      "Position Ship  10 :  [37.4247 21.1786]  new pbest is  [31.5376 23.2103]\n",
      "\n",
      "The current iteration best solution is:-\n",
      "\tPosition:  [28.7865 17.329 ]\n",
      "\tDistance from target (km):  2.2378\n",
      "\tDistance travelled (km):  29.43419249719586\n",
      "\tTotal time travelled (km/h):  2.140668545250608\n",
      "\tTrack:  [[22.     20.    ]\n",
      " [22.     20.    ]\n",
      " [22.     20.    ]\n",
      " [22.     20.    ]\n",
      " [23.1073 20.5033]\n",
      " [24.4873 21.1305]\n",
      " [25.9412 21.7582]\n",
      " [27.7458 22.3697]\n",
      " [29.6105 22.8209]\n",
      " [31.9445 22.7271]\n",
      " [34.2785 22.6333]\n",
      " [36.485  22.5446]\n",
      " [38.3588 22.4693]\n",
      " [39.2265 22.2133]\n",
      " [38.7441 21.6202]\n",
      " [37.5914 20.8456]\n",
      " [35.9252 20.1832]\n",
      " [33.6559 19.2732]\n",
      " [31.2212 18.3011]\n",
      " [28.7865 17.329 ]]\n",
      "--- iteration  21  ---\n"
     ]
    },
    {
     "data": {
      "image/png": "[encoded data removed]",
      "text/plain": [
       "<Figure size 432x288 with 1 Axes>"
      ]
     },
     "metadata": {
      "needs_background": "light"
     },
     "output_type": "display_data"
    },
    {
     "name": "stdout",
     "output_type": "stream",
     "text": [
      "Position Ship  1 :  [44.7154 22.429 ]  new pbest is  [32.242  19.1268]\n",
      "Position Ship  2 :  [48.8072 16.0101]  new pbest is  [32.7422 19.9358]\n",
      "Position Ship  3 :  [11.9605 27.684 ]  new pbest is  [33.6618 18.335 ]\n",
      "Position Ship  4 :  [27.964  12.0372]  new pbest is  [31.7632 15.4087]\n",
      "Position Ship  5 :  [41.1878 23.3395]  new pbest is  [28.8552 16.9806]\n",
      "Position Ship  6 :  [20.3693 12.4648]  new pbest is  [29.8768 18.3969]\n",
      "Position Ship  7 :  [26.5607  5.4144]  new pbest is  [31.6103 16.0238]\n",
      "Position Ship  8 :  [26.5406 16.4323]  new pbest is  [31.2212 18.3011]\n",
      "Position Ship  9 :  [22.5618 11.4482]  new pbest is  [30.9429 18.2546]\n",
      "Position Ship  10 :  [29.1348 20.6533]  new pbest is  [29.1348 20.6533]\n",
      "\n",
      "The current iteration best solution is:-\n",
      "\tPosition:  [29.1348 20.6533]\n",
      "\tDistance from target (km):  4.1019\n",
      "\tDistance travelled (km):  78.97515980814435\n",
      "\tTotal time travelled (km/h):  5.743647986046862\n",
      "\tTrack:  [[ 4.     21.    ]\n",
      " [ 4.2279 20.9873]\n",
      " [ 4.7228 20.9598]\n",
      " [ 5.6705 20.9071]\n",
      " [ 9.4603 21.323 ]\n",
      " [14.3156 21.8563]\n",
      " [19.6961 22.3732]\n",
      " [25.5579 22.8536]\n",
      " [31.5376 23.2103]\n",
      " [37.7998 23.0342]\n",
      " [43.7357 22.86  ]\n",
      " [49.0152 22.6976]\n",
      " [51.9808 22.5795]\n",
      " [54.3423 22.456 ]\n",
      " [55.8329 22.3529]\n",
      " [55.9568 22.2873]\n",
      " [53.6561 22.2426]\n",
      " [49.9953 21.9008]\n",
      " [44.907  21.6329]\n",
      " [37.4247 21.1786]\n",
      " [29.1348 20.6533]]\n",
      "--- iteration  22  ---\n"
     ]
    },
    {
     "data": {
      "image/png": "[encoded data removed]",
      "text/plain": [
       "<Figure size 432x288 with 1 Axes>"
      ]
     },
     "metadata": {
      "needs_background": "light"
     },
     "output_type": "display_data"
    },
    {
     "name": "stdout",
     "output_type": "stream",
     "text": [
      "Position Ship  1 :  [41.8562 21.4945]  new pbest is  [32.242  19.1268]\n",
      "Position Ship  2 :  [49.6853 15.5295]  new pbest is  [32.7422 19.9358]\n",
      "Position Ship  3 :  [10.5408 28.0498]  new pbest is  [33.6618 18.335 ]\n",
      "Position Ship  4 :  [26.2834 11.4853]  new pbest is  [31.7632 15.4087]\n",
      "Position Ship  5 :  [37.2073 21.3977]  new pbest is  [28.8552 16.9806]\n",
      "Position Ship  6 :  [16.9743 10.4764]  new pbest is  [29.8768 18.3969]\n",
      "Position Ship  7 :  [26.2972  6.1425]  new pbest is  [31.6103 16.0238]\n",
      "Position Ship  8 :  [24.7841 15.7686]  new pbest is  [31.2212 18.3011]\n",
      "Position Ship  9 :  [20.6995 10.2166]  new pbest is  [30.9429 18.2546]\n",
      "Position Ship  10 :  [20.8449 20.128 ]  new pbest is  [29.1348 20.6533]\n",
      "\n",
      "The current iteration best solution is:-\n",
      "\tPosition:  [24.7841 15.7686]\n",
      "\tDistance from target (km):  6.3367\n",
      "\tDistance travelled (km):  33.73019350202474\n",
      "\tTotal time travelled (km/h):  2.453104981965436\n",
      "\tTrack:  [[22.     20.    ]\n",
      " [22.     20.    ]\n",
      " [22.     20.    ]\n",
      " [22.     20.    ]\n",
      " [23.1073 20.5033]\n",
      " [24.4873 21.1305]\n",
      " [25.9412 21.7582]\n",
      " [27.7458 22.3697]\n",
      " [29.6105 22.8209]\n",
      " [31.9445 22.7271]\n",
      " [34.2785 22.6333]\n",
      " [36.485  22.5446]\n",
      " [38.3588 22.4693]\n",
      " [39.2265 22.2133]\n",
      " [38.7441 21.6202]\n",
      " [37.5914 20.8456]\n",
      " [35.9252 20.1832]\n",
      " [33.6559 19.2732]\n",
      " [31.2212 18.3011]\n",
      " [28.7865 17.329 ]\n",
      " [26.5406 16.4323]\n",
      " [24.7841 15.7686]]\n",
      "--- iteration  23  ---\n"
     ]
    },
    {
     "data": {
      "image/png": "[encoded data removed]",
      "text/plain": [
       "<Figure size 432x288 with 1 Axes>"
      ]
     },
     "metadata": {
      "needs_background": "light"
     },
     "output_type": "display_data"
    },
    {
     "name": "stdout",
     "output_type": "stream",
     "text": [
      "Position Ship  1 :  [37.7571 20.147 ]  new pbest is  [32.242  19.1268]\n",
      "Position Ship  2 :  [48.5587 15.2377]  new pbest is  [32.7422 19.9358]\n",
      "Position Ship  3 :  [11.108  27.0527]  new pbest is  [33.6618 18.335 ]\n",
      "Position Ship  4 :  [25.0473 11.5747]  new pbest is  [31.7632 15.4087]\n",
      "Position Ship  5 :  [32.46   19.1004]  new pbest is  [28.8552 16.9806]\n",
      "Position Ship  6 :  [15.2095  9.5256]  new pbest is  [29.8768 18.3969]\n",
      "Position Ship  7 :  [25.9945  7.3707]  new pbest is  [31.6103 16.0238]\n",
      "Position Ship  8 :  [23.3907 15.2477]  new pbest is  [31.2212 18.3011]\n",
      "Position Ship  9 :  [20.1514 10.2278]  new pbest is  [30.9429 18.2546]\n",
      "Position Ship  10 :  [13.0279 19.5499]  new pbest is  [29.1348 20.6533]\n",
      "\n",
      "The current iteration best solution is:-\n",
      "\tPosition:  [32.46   19.1004]\n",
      "\tDistance from target (km):  2.558\n",
      "\tDistance travelled (km):  77.78895442540887\n",
      "\tTotal time travelled (km/h):  5.6573785036661\n",
      "\tTrack:  [[43.     35.    ]\n",
      " [41.2511 33.7508]\n",
      " [38.4553 31.7538]\n",
      " [34.7167 29.0834]\n",
      " [30.9587 26.1836]\n",
      " [27.1949 23.27  ]\n",
      " [23.6864 20.2912]\n",
      " [20.9162 17.5012]\n",
      " [18.4887 15.0095]\n",
      " [17.6138 12.7741]\n",
      " [17.9904 11.7701]\n",
      " [20.5296 12.6502]\n",
      " [24.5462 14.6756]\n",
      " [28.8552 16.9806]\n",
      " [33.1642 19.2856]\n",
      " [37.238  21.4648]\n",
      " [40.937  23.4814]\n",
      " [43.1248 24.5517]\n",
      " [44.2195 25.0462]\n",
      " [43.9782 24.8408]\n",
      " [41.1878 23.3395]\n",
      " [37.2073 21.3977]\n",
      " [32.46   19.1004]]\n",
      "--- iteration  24  ---\n"
     ]
    },
    {
     "data": {
      "image/png": "[encoded data removed]",
      "text/plain": [
       "<Figure size 432x288 with 1 Axes>"
      ]
     },
     "metadata": {
      "needs_background": "light"
     },
     "output_type": "display_data"
    },
    {
     "name": "stdout",
     "output_type": "stream",
     "text": [
      "Position Ship  1 :  [32.897  18.6549]  new pbest is  [32.242  19.1268]\n",
      "Position Ship  2 :  [45.9277 15.3195]  new pbest is  [32.7422 19.9358]\n",
      "Position Ship  3 :  [14.599  24.9496]  new pbest is  [33.6618 18.335 ]\n",
      "Position Ship  4 :  [23.9844 11.7707]  new pbest is  [31.7632 15.4087]\n",
      "Position Ship  5 :  [27.5935 16.733 ]  new pbest is  [28.8552 16.9806]\n",
      "Position Ship  6 :  [15.018   9.4771]  new pbest is  [29.8768 18.3969]\n",
      "Position Ship  7 :  [26.3008  9.6387]  new pbest is  [31.6103 16.0238]\n",
      "Position Ship  8 :  [22.8062 15.0442]  new pbest is  [31.2212 18.3011]\n",
      "Position Ship  9 :  [20.7427 11.0743]  new pbest is  [30.9429 18.2546]\n",
      "Position Ship  10 :  [ 7.2524 19.06  ]  new pbest is  [29.1348 20.6533]\n",
      "\n",
      "The current iteration best solution is:-\n",
      "\tPosition:  [32.897  18.6549]\n",
      "\tDistance from target (km):  2.5174\n",
      "\tDistance travelled (km):  76.49522753127549\n",
      "\tTotal time travelled (km/h):  5.563289275001853\n",
      "\tTrack:  [[44.     30.    ]\n",
      " [42.035  29.1068]\n",
      " [38.9999 27.7272]\n",
      " [34.4268 25.6485]\n",
      " [29.8537 23.5698]\n",
      " [25.2806 21.4911]\n",
      " [21.4883 19.4524]\n",
      " [18.9183 17.8644]\n",
      " [16.9863 16.4655]\n",
      " [17.9163 15.768 ]\n",
      " [20.1206 15.8015]\n",
      " [23.2082 16.3034]\n",
      " [27.7251 17.7151]\n",
      " [32.242  19.1268]\n",
      " [36.5442 20.4024]\n",
      " [40.621  21.6045]\n",
      " [43.8833 22.6321]\n",
      " [45.5606 23.0332]\n",
      " [47.0075 23.3663]\n",
      " [46.7677 23.1892]\n",
      " [44.7154 22.429 ]\n",
      " [41.8562 21.4945]\n",
      " [37.7571 20.147 ]\n",
      " [32.897  18.6549]]\n",
      "--- iteration  25  ---\n"
     ]
    },
    {
     "data": {
      "image/png": "[encoded data removed]",
      "text/plain": [
       "<Figure size 432x288 with 1 Axes>"
      ]
     },
     "metadata": {
      "needs_background": "light"
     },
     "output_type": "display_data"
    },
    {
     "name": "stdout",
     "output_type": "stream",
     "text": [
      "Position Ship  1 :  [28.0312 17.1669]  new pbest is  [32.242  19.1268]\n",
      "Position Ship  2 :  [41.016  16.0859]  new pbest is  [32.7422 19.9358]\n",
      "Position Ship  3 :  [19.4772 22.3679]  new pbest is  [33.6618 18.335 ]\n",
      "Position Ship  4 :  [24.02   12.6479]  new pbest is  [31.7632 15.4087]\n",
      "Position Ship  5 :  [23.3375 14.5698]  new pbest is  [28.8552 16.9806]\n",
      "Position Ship  6 :  [16.695  10.4921]  new pbest is  [29.8768 18.3969]\n",
      "Position Ship  7 :  [27.6729 13.2788]  new pbest is  [31.6103 16.0238]\n",
      "Position Ship  8 :  [23.4541 15.3021]  new pbest is  [31.2212 18.3011]\n",
      "Position Ship  9 :  [21.6226 12.1124]  new pbest is  [30.9429 18.2546]\n",
      "Position Ship  10 :  [ 1.7205 18.5672]  new pbest is  [29.1348 20.6533]\n",
      "\n",
      "The current iteration best solution is:-\n",
      "\tPosition:  [28.0312 17.1669]\n",
      "\tDistance from target (km):  2.9735\n",
      "\tDistance travelled (km):  81.58346432214913\n",
      "\tTotal time travelled (km/h):  5.933342859792663\n",
      "\tTrack:  [[44.     30.    ]\n",
      " [42.035  29.1068]\n",
      " [38.9999 27.7272]\n",
      " [34.4268 25.6485]\n",
      " [29.8537 23.5698]\n",
      " [25.2806 21.4911]\n",
      " [21.4883 19.4524]\n",
      " [18.9183 17.8644]\n",
      " [16.9863 16.4655]\n",
      " [17.9163 15.768 ]\n",
      " [20.1206 15.8015]\n",
      " [23.2082 16.3034]\n",
      " [27.7251 17.7151]\n",
      " [32.242  19.1268]\n",
      " [36.5442 20.4024]\n",
      " [40.621  21.6045]\n",
      " [43.8833 22.6321]\n",
      " [45.5606 23.0332]\n",
      " [47.0075 23.3663]\n",
      " [46.7677 23.1892]\n",
      " [44.7154 22.429 ]\n",
      " [41.8562 21.4945]\n",
      " [37.7571 20.147 ]\n",
      " [32.897  18.6549]\n",
      " [28.0312 17.1669]]\n",
      "--- iteration  26  ---\n"
     ]
    },
    {
     "data": {
      "image/png": "[encoded data removed]",
      "text/plain": [
       "<Figure size 432x288 with 1 Axes>"
      ]
     },
     "metadata": {
      "needs_background": "light"
     },
     "output_type": "display_data"
    },
    {
     "name": "stdout",
     "output_type": "stream",
     "text": [
      "Position Ship  1 :  [23.3225 15.752 ]  new pbest is  [32.242  19.1268]\n",
      "Position Ship  2 :  [35.4097 17.0003]  new pbest is  [32.7422 19.9358]\n",
      "Position Ship  3 :  [25.0915 19.4439]  new pbest is  [33.6618 18.335 ]\n",
      "Position Ship  4 :  [24.8085 13.9503]  new pbest is  [31.7632 15.4087]\n",
      "Position Ship  5 :  [19.8382 12.7878]  new pbest is  [28.8552 16.9806]\n",
      "Position Ship  6 :  [19.7731 12.3407]  new pbest is  [29.8768 18.3969]\n",
      "Position Ship  7 :  [29.1045 17.0625]  new pbest is  [31.6103 16.0238]\n",
      "Position Ship  8 :  [24.5334 15.7344]  new pbest is  [31.2212 18.3011]\n",
      "Position Ship  9 :  [22.9256 13.451 ]  new pbest is  [30.9429 18.2546]\n",
      "Position Ship  10 :  [-2.7887 18.1343]  new pbest is  [29.1348 20.6533]\n",
      "\n",
      "The current iteration best solution is:-\n",
      "\tPosition:  [29.1045 17.0625]\n",
      "\tDistance from target (km):  1.8965\n",
      "\tDistance travelled (km):  71.34496271081893\n",
      "\tTotal time travelled (km/h):  5.188724560786832\n",
      "\tTrack:  [[22.      6.    ]\n",
      " [22.      6.6082]\n",
      " [22.      8.119 ]\n",
      " [22.     10.0289]\n",
      " [22.6704 12.7815]\n",
      " [23.764  16.1696]\n",
      " [25.4871 19.8322]\n",
      " [27.5901 23.6182]\n",
      " [29.6038 26.9369]\n",
      " [32.007  29.3893]\n",
      " [34.2153 30.9272]\n",
      " [35.9616 31.4314]\n",
      " [36.7784 30.4326]\n",
      " [36.4625 27.9892]\n",
      " [34.9677 24.318 ]\n",
      " [33.289  20.1709]\n",
      " [31.6103 16.0238]\n",
      " [29.9316 11.8767]\n",
      " [28.4704  8.5878]\n",
      " [27.4595  6.5986]\n",
      " [26.5607  5.4144]\n",
      " [26.2972  6.1425]\n",
      " [25.9945  7.3707]\n",
      " [26.3008  9.6387]\n",
      " [27.6729 13.2788]\n",
      " [29.1045 17.0625]]\n",
      "--- iteration  27  ---\n"
     ]
    },
    {
     "data": {
      "image/png": "[encoded data removed]",
      "text/plain": [
       "<Figure size 432x288 with 1 Axes>"
      ]
     },
     "metadata": {
      "needs_background": "light"
     },
     "output_type": "display_data"
    },
    {
     "name": "stdout",
     "output_type": "stream",
     "text": [
      "Position Ship  1 :  [19.2764 14.5641]  new pbest is  [32.242  19.1268]\n",
      "Position Ship  2 :  [29.6124 18.0865]  new pbest is  [29.6124 18.0865]\n",
      "Position Ship  3 :  [31.0098 16.3995]  new pbest is  [31.0098 16.3995]\n",
      "Position Ship  4 :  [26.0815 15.4475]  new pbest is  [31.7632 15.4087]\n",
      "Position Ship  5 :  [16.8452 11.2411]  new pbest is  [28.8552 16.9806]\n",
      "Position Ship  6 :  [23.8728 14.7992]  new pbest is  [29.8768 18.3969]\n",
      "Position Ship  7 :  [30.7218 20.7692]  new pbest is  [31.6103 16.0238]\n",
      "Position Ship  8 :  [26.2874 16.3953]  new pbest is  [31.2212 18.3011]\n",
      "Position Ship  9 :  [24.586  14.9991]  new pbest is  [30.9429 18.2546]\n",
      "Position Ship  10 :  [-3.9583 17.6638]  new pbest is  [29.1348 20.6533]\n",
      "\n",
      "The current iteration best solution is:-\n",
      "\tPosition:  [31.0098 16.3995]\n",
      "\tDistance from target (km):  0.6006\n",
      "\tDistance travelled (km):  117.45962000766355\n",
      "\tTotal time travelled (km/h):  8.542517818739167\n",
      "\tTrack:  [[ 5.     34.    ]\n",
      " [ 5.1088 33.9104]\n",
      " [ 6.8469 32.479 ]\n",
      " [ 9.5761 30.2314]\n",
      " [12.6064 27.9283]\n",
      " [16.8201 25.3261]\n",
      " [22.5757 22.3797]\n",
      " [28.8682 19.3778]\n",
      " [35.1607 16.3759]\n",
      " [40.9378 13.6199]\n",
      " [45.1938 11.8446]\n",
      " [47.9765 10.9439]\n",
      " [49.7417 10.7102]\n",
      " [48.3729 11.5879]\n",
      " [45.2654 13.03  ]\n",
      " [40.2149 15.3361]\n",
      " [33.6618 18.335 ]\n",
      " [27.0631 21.2826]\n",
      " [20.9587 23.9983]\n",
      " [14.8965 26.6947]\n",
      " [11.9605 27.684 ]\n",
      " [10.5408 28.0498]\n",
      " [11.108  27.0527]\n",
      " [14.599  24.9496]\n",
      " [19.4772 22.3679]\n",
      " [25.0915 19.4439]\n",
      " [31.0098 16.3995]]\n",
      "--- iteration  28  ---\n"
     ]
    },
    {
     "data": {
      "image/png": "[encoded data removed]",
      "text/plain": [
       "<Figure size 432x288 with 1 Axes>"
      ]
     },
     "metadata": {
      "needs_background": "light"
     },
     "output_type": "display_data"
    },
    {
     "name": "stdout",
     "output_type": "stream",
     "text": [
      "Position Ship  1 :  [16.924  13.7787]  new pbest is  [32.242  19.1268]\n",
      "Position Ship  2 :  [23.846  19.1354]  new pbest is  [29.6124 18.0865]\n",
      "Position Ship  3 :  [36.9281 13.3551]  new pbest is  [31.0098 16.3995]\n",
      "Position Ship  4 :  [27.5441 16.9644]  new pbest is  [31.7632 15.4087]\n",
      "Position Ship  5 :  [15.1087 10.2012]  new pbest is  [28.8552 16.9806]\n",
      "Position Ship  6 :  [28.5005 17.4725]  new pbest is  [29.8768 18.3969]\n",
      "Position Ship  7 :  [32.4247 23.9593]  new pbest is  [31.6103 16.0238]\n",
      "Position Ship  8 :  [28.3461 17.073 ]  new pbest is  [31.2212 18.3011]\n",
      "Position Ship  9 :  [26.7391 16.6798]  new pbest is  [30.9429 18.2546]\n",
      "Position Ship  10 :  [ 0.0899 17.4133]  new pbest is  [29.1348 20.6533]\n",
      "\n",
      "The current iteration best solution is:-\n",
      "\tPosition:  [28.5005 17.4725]\n",
      "\tDistance from target (km):  2.5438\n",
      "\tDistance travelled (km):  108.54480710662375\n",
      "\tTotal time travelled (km/h):  7.894167789572636\n",
      "\tTrack:  [[ 5.      9.    ]\n",
      " [ 5.5737  9.3712]\n",
      " [ 6.9975 10.2925]\n",
      " [ 8.8056 11.4624]\n",
      " [11.4014 13.0684]\n",
      " [15.3028 15.4174]\n",
      " [20.8255 18.2352]\n",
      " [26.5876 21.1328]\n",
      " [32.462  23.944 ]\n",
      " [38.0016 26.5035]\n",
      " [43.3581 28.976 ]\n",
      " [47.9162 30.9181]\n",
      " [50.4307 31.8452]\n",
      " [49.1438 30.7909]\n",
      " [47.1606 29.28  ]\n",
      " [44.507  27.3774]\n",
      " [39.7735 24.4658]\n",
      " [34.8263 21.4323]\n",
      " [29.8768 18.3969]\n",
      " [24.9878 15.3572]\n",
      " [20.3693 12.4648]\n",
      " [16.9743 10.4764]\n",
      " [15.2095  9.5256]\n",
      " [15.018   9.4771]\n",
      " [16.695  10.4921]\n",
      " [19.7731 12.3407]\n",
      " [23.8728 14.7992]\n",
      " [28.5005 17.4725]]\n",
      "--- iteration  29  ---\n"
     ]
    },
    {
     "data": {
      "image/png": "[encoded data removed]",
      "text/plain": [
       "<Figure size 432x288 with 1 Axes>"
      ]
     },
     "metadata": {
      "needs_background": "light"
     },
     "output_type": "display_data"
    },
    {
     "name": "stdout",
     "output_type": "stream",
     "text": [
      "Position Ship  1 :  [15.64   13.3486]  new pbest is  [32.242  19.1268]\n",
      "Position Ship  2 :  [18.7959 20.0232]  new pbest is  [29.6124 18.0865]\n",
      "Position Ship  3 :  [41.9671 10.7461]  new pbest is  [31.0098 16.3995]\n",
      "Position Ship  4 :  [29.4801 18.378 ]  new pbest is  [31.7632 15.4087]\n",
      "Position Ship  5 :  [15.4799 10.2601]  new pbest is  [28.8552 16.9806]\n",
      "Position Ship  6 :  [33.2102 20.2009]  new pbest is  [29.8768 18.3969]\n",
      "Position Ship  7 :  [33.7775 26.2449]  new pbest is  [31.6103 16.0238]\n",
      "Position Ship  8 :  [30.4523 17.7774]  new pbest is  [30.4523 17.7774]\n",
      "Position Ship  9 :  [29.0311 18.4132]  new pbest is  [30.9429 18.2546]\n",
      "Position Ship  10 :  [ 8.2031 17.4283]  new pbest is  [29.1348 20.6533]\n",
      "\n",
      "The current iteration best solution is:-\n",
      "\tPosition:  [30.4523 17.7774]\n",
      "\tDistance from target (km):  0.951\n",
      "\tDistance travelled (km):  43.959314666658386\n",
      "\tTotal time travelled (km/h):  3.1970410666660642\n",
      "\tTrack:  [[22.     20.    ]\n",
      " [22.     20.    ]\n",
      " [22.     20.    ]\n",
      " [22.     20.    ]\n",
      " [23.1073 20.5033]\n",
      " [24.4873 21.1305]\n",
      " [25.9412 21.7582]\n",
      " [27.7458 22.3697]\n",
      " [29.6105 22.8209]\n",
      " [31.9445 22.7271]\n",
      " [34.2785 22.6333]\n",
      " [36.485  22.5446]\n",
      " [38.3588 22.4693]\n",
      " [39.2265 22.2133]\n",
      " [38.7441 21.6202]\n",
      " [37.5914 20.8456]\n",
      " [35.9252 20.1832]\n",
      " [33.6559 19.2732]\n",
      " [31.2212 18.3011]\n",
      " [28.7865 17.329 ]\n",
      " [26.5406 16.4323]\n",
      " [24.7841 15.7686]\n",
      " [23.3907 15.2477]\n",
      " [22.8062 15.0442]\n",
      " [23.4541 15.3021]\n",
      " [24.5334 15.7344]\n",
      " [26.2874 16.3953]\n",
      " [28.3461 17.073 ]\n",
      " [30.4523 17.7774]]\n",
      "--- iteration  30  ---\n"
     ]
    },
    {
     "data": {
      "image/png": "[encoded data removed]",
      "text/plain": [
       "<Figure size 432x288 with 1 Axes>"
      ]
     },
     "metadata": {
      "needs_background": "light"
     },
     "output_type": "display_data"
    },
    {
     "name": "stdout",
     "output_type": "stream",
     "text": [
      "Position Ship  1 :  [15.6242 13.3302]  new pbest is  [32.242  19.1268]\n",
      "Position Ship  2 :  [14.8366 20.7095]  new pbest is  [29.6124 18.0865]\n",
      "Position Ship  3 :  [45.7275  8.8845]  new pbest is  [31.0098 16.3995]\n",
      "Position Ship  4 :  [31.5539 19.6574]  new pbest is  [31.7632 15.4087]\n",
      "Position Ship  5 :  [16.5684 10.6793]  new pbest is  [28.8552 16.9806]\n",
      "Position Ship  6 :  [37.7784 22.8235]  new pbest is  [29.8768 18.3969]\n",
      "Position Ship  7 :  [34.7559 27.2882]  new pbest is  [31.6103 16.0238]\n",
      "Position Ship  8 :  [32.5585 18.4818]  new pbest is  [30.4523 17.7774]\n",
      "Position Ship  9 :  [31.5626 20.1033]  new pbest is  [30.9429 18.2546]\n",
      "Position Ship  10 :  [18.4078 17.7428]  new pbest is  [29.1348 20.6533]\n",
      "\n",
      "The current iteration best solution is:-\n",
      "\tPosition:  [32.5585 18.4818]\n",
      "\tDistance from target (km):  2.1505\n",
      "\tDistance travelled (km):  46.18018337056684\n",
      "\tTotal time travelled (km/h):  3.358558790586679\n",
      "\tTrack:  [[22.     20.    ]\n",
      " [22.     20.    ]\n",
      " [22.     20.    ]\n",
      " [22.     20.    ]\n",
      " [23.1073 20.5033]\n",
      " [24.4873 21.1305]\n",
      " [25.9412 21.7582]\n",
      " [27.7458 22.3697]\n",
      " [29.6105 22.8209]\n",
      " [31.9445 22.7271]\n",
      " [34.2785 22.6333]\n",
      " [36.485  22.5446]\n",
      " [38.3588 22.4693]\n",
      " [39.2265 22.2133]\n",
      " [38.7441 21.6202]\n",
      " [37.5914 20.8456]\n",
      " [35.9252 20.1832]\n",
      " [33.6559 19.2732]\n",
      " [31.2212 18.3011]\n",
      " [28.7865 17.329 ]\n",
      " [26.5406 16.4323]\n",
      " [24.7841 15.7686]\n",
      " [23.3907 15.2477]\n",
      " [22.8062 15.0442]\n",
      " [23.4541 15.3021]\n",
      " [24.5334 15.7344]\n",
      " [26.2874 16.3953]\n",
      " [28.3461 17.073 ]\n",
      " [30.4523 17.7774]\n",
      " [32.5585 18.4818]]\n",
      "\n",
      "--- 7.328729629516602 seconds ---\n"
     ]
    }
   ],
   "source": [
    "import random as rand\n",
    "import numpy as np\n",
    "import matplotlib.pyplot as plt\n",
    "import math\n",
    "import time\n",
    "\n",
    "rand.seed(50)\n",
    "np.random.seed(50)\n",
    "\n",
    "class Particle():\n",
    "    def __init__(self):\n",
    "        self.position = np.array([rand.randint(0, 50), rand.randint(0, 50)])\n",
    "        self.pbest_position = self.position\n",
    "        self.pbest_value = float('inf')\n",
    "        self.velocity = np.array([0,0])\n",
    "        self.travelled_distance = 0.0\n",
    "        self.time_travelled = 0.0\n",
    "        self.track = self.position\n",
    "\n",
    "    def __str__(self, ind):\n",
    "        print(\"Position Ship \", ind, \": \", self.position, \" new pbest is \", self.pbest_position)\n",
    "    \n",
    "    def move(self):\n",
    "        old_position = self.position\n",
    "        self.position = self.position + self.velocity\n",
    "        self.track = np.append(self.track, self.position, axis=0)\n",
    "        distance = math.dist([old_position[0], old_position[1]], [self.position[0], self.position[1]])\n",
    "        self.travelled_distance = self.travelled_distance + distance\n",
    "        self.time_travelled = self.travelled_distance / speed\n",
    "       \n",
    "class Space():\n",
    "\n",
    "    def __init__(self, target, min_distance, n_particles):\n",
    "        self.target = np.array([rand.randint(0, 50), rand.randint(0, 50)])\n",
    "        self.min_distance = min_distance\n",
    "        self.n_particles = n_particles\n",
    "        self.particles = []\n",
    "        self.gbest_value = float('inf')\n",
    "        self.gbest_position = np.array([rand.random()*50, rand.random()*50])\n",
    "        self.gbest_travelled_distance = 0.0\n",
    "        self.gbest_time_travelled = 0.0\n",
    "        self.gbest_track = self.gbest_position\n",
    "\n",
    "    def print_particles(self):\n",
    "        ind = 1\n",
    "        for particle in self.particles:\n",
    "            particle.__str__(ind)\n",
    "            ind += 1\n",
    "   \n",
    "    def fitness(self, particle):\n",
    "        return round(math.dist([particle.position[0], particle.position[1]], [self.target[0], self.target[1]]),4)\n",
    "\n",
    "    def set_pbest(self):\n",
    "        for particle in self.particles:\n",
    "            fitness_cadidate = self.fitness(particle)\n",
    "            if(particle.pbest_value > fitness_cadidate):\n",
    "                particle.pbest_value = fitness_cadidate\n",
    "                particle.pbest_position = particle.position\n",
    "            \n",
    "\n",
    "    def set_gbest(self):\n",
    "        self.gbest_value = float('inf')\n",
    "        for particle in self.particles:\n",
    "            best_fitness_cadidate = self.fitness(particle)\n",
    "            if(self.gbest_value > best_fitness_cadidate):\n",
    "                self.gbest_value = best_fitness_cadidate\n",
    "                self.gbest_position = particle.position\n",
    "                self.gbest_track = particle.track\n",
    "                self.gbest_travelled_distance = particle.travelled_distance\n",
    "                self.gbest_time_travelled = particle.time_travelled\n",
    "\n",
    "    def move_particles(self):\n",
    "        for particle in self.particles:\n",
    "            global W\n",
    "            new_velocity = (W*particle.velocity) + (c1*rand.random()) * (particle.pbest_position - particle.position) + \\\n",
    "                            (rand.random()*c2) * (self.gbest_position - particle.position)\n",
    "            particle.velocity = np.round(new_velocity, decimals=4)\n",
    "#             print('particle velocity:', particle.velocity)\n",
    "            particle.move()\n",
    "    \n",
    "    def plot(self):\n",
    "        # x-axis values \n",
    "        x = [pc.position[0] for pc in self.particles]\n",
    "#         x.append(self.target[0])\n",
    "        # y-axis values \n",
    "        y = [pc.position[1] for pc in self.particles]\n",
    "#         y.append(self.target[1])\n",
    "\n",
    "        # plotting points as a scatter plot \n",
    "        plt.scatter(x, y, label=\"ship\", color= \"red\",  \n",
    "                    marker= \"s\", s=25)\n",
    "        plt.scatter(self.target[0], self.target[1], label=\"destination\", color= \"blue\",  \n",
    "                    marker= \"x\", s=25)\n",
    "\n",
    "        # x-axis label \n",
    "        plt.xlabel('x - axis') \n",
    "        plt.xlim([0, 60])\n",
    "        # frequency label \n",
    "        plt.ylabel('y - axis')\n",
    "        plt.ylim([0, 60])\n",
    "        # plot title \n",
    "        plt.title('2D Map') \n",
    "        # showing legend \n",
    "        plt.legend()\n",
    "        plt.grid(True)\n",
    "\n",
    "        # function to show the plot \n",
    "        plt.show() \n",
    "            \n",
    "\n",
    "            \n",
    "##program start here\n",
    "# n_particles = int(input(\"Inform the number of particles: \"))\n",
    "# n_iterations = int(input(\"Inform the number of iterations: \"))\n",
    "# target_error = float(input(\"Inform the target error: \"))\n",
    "start_time = time.time()\n",
    "n_particles = 10\n",
    "n_iterations = 30\n",
    "min_distance = 0\n",
    "\n",
    "\n",
    "W = 1.0\n",
    "c1 = 0.1\n",
    "c2 = 0.1 \n",
    "speed = 13.75\n",
    "\n",
    "search_space = Space(1, min_distance, n_particles)\n",
    "particles_vector = [Particle() for _ in range(search_space.n_particles)]\n",
    "search_space.particles = particles_vector\n",
    "# search_space.print_particles()\n",
    "print(\"Target destination: \", search_space.target)\n",
    "\n",
    "\n",
    "iteration = 0\n",
    "# time\n",
    "while(iteration < n_iterations):\n",
    "    print(\"--- iteration \", iteration+1, \" ---\")\n",
    "    search_space.plot()\n",
    "    search_space.set_pbest()    \n",
    "    search_space.set_gbest()\n",
    "    search_space.print_particles()\n",
    "\n",
    "    if(search_space.gbest_value <= search_space.min_distance):\n",
    "        break\n",
    "    c=search_space.gbest_track\n",
    "    track2d = np.reshape(c, (-1, 2))\n",
    "    print(\"\\nThe current iteration best solution is:-\")\n",
    "    print(\"\\tPosition: \", search_space.gbest_position)\n",
    "    print(\"\\tDistance from target (km): \", search_space.gbest_value)\n",
    "    print(\"\\tDistance travelled (km): \", search_space.gbest_travelled_distance)\n",
    "    print(\"\\tTotal time travelled (km/h): \", search_space.gbest_time_travelled)\n",
    "    print(\"\\tTrack: \", track2d)\n",
    "    search_space.move_particles()\n",
    "    iteration += 1\n",
    "print(\"\\n--- %s seconds ---\" % (time.time() - start_time))\n",
    "\n"
   ]
  },
  {
   "cell_type": "code",
   "execution_count": 4,
   "metadata": {},
   "outputs": [
    {
     "name": "stdout",
     "output_type": "stream",
     "text": [
      "[1 2 2 1]\n",
      "[[1 2]\n",
      " [2 1]]\n"
     ]
    }
   ],
   "source": [
    "a = np.array([1,2])\n",
    "b = np.array([2,1])\n",
    "c = []\n",
    "c.append(a)\n",
    "a = np.append(a, b, axis=0)\n",
    "print(a)\n",
    "c = np.reshape(a, (-1, 2))\n",
    "print(c)"
   ]
  },
  {
   "cell_type": "markdown",
   "metadata": {},
   "source": [
    "# END"
   ]
  },
  {
   "cell_type": "code",
   "execution_count": 5,
   "metadata": {},
   "outputs": [
    {
     "name": "stdout",
     "output_type": "stream",
     "text": [
      "Inform the number of iterations: 10\n",
      "Inform the target error: 0\n",
      "Inform the number of particles: 10\n",
      "I am at  [-7.15323106 22.70787659]  meu pbest is  [-7.15323106 22.70787659]\n",
      "I am at  [-29.6695332   35.84997019]  meu pbest is  [-29.6695332   35.84997019]\n",
      "I am at  [ 49.29453896 -23.00773292]  meu pbest is  [ 49.29453896 -23.00773292]\n",
      "I am at  [17.5842029  21.06979758]  meu pbest is  [17.5842029  21.06979758]\n",
      "I am at  [13.70568668 12.19808187]  meu pbest is  [13.70568668 12.19808187]\n",
      "I am at  [-35.28554738  35.78963669]  meu pbest is  [-35.28554738  35.78963669]\n",
      "I am at  [-16.58795696  23.57774817]  meu pbest is  [-16.58795696  23.57774817]\n",
      "I am at  [ 18.42679604 -38.91422582]  meu pbest is  [ 18.42679604 -38.91422582]\n",
      "I am at  [25.82455604 41.66052774]  meu pbest is  [25.82455604 41.66052774]\n",
      "I am at  [-14.07425243  41.71925189]  meu pbest is  [-14.07425243  41.71925189]\n",
      "The best solution is:  [-0.06281721 -0.21652187]  in n_iterations:  10\n"
     ]
    }
   ],
   "source": [
    "import random\n",
    "import numpy as np \n",
    "\n",
    "W = 0.5\n",
    "c1 = 0.8\n",
    "c2 = 0.9 \n",
    "\n",
    "n_iterations = int(input(\"Inform the number of iterations: \"))\n",
    "target_error = float(input(\"Inform the target error: \"))\n",
    "n_particles = int(input(\"Inform the number of particles: \"))\n",
    "\n",
    "class Particle():\n",
    "    def __init__(self):\n",
    "        self.position = np.array([(-1) ** (bool(random.getrandbits(1))) * random.random()*50, (-1)**(bool(random.getrandbits(1))) * random.random()*50])\n",
    "        self.pbest_position = self.position\n",
    "        self.pbest_value = float('inf')\n",
    "        self.velocity = np.array([0,0])\n",
    "\n",
    "    def __str__(self):\n",
    "        print(\"I am at \", self.position, \" meu pbest is \", self.pbest_position)\n",
    "    \n",
    "    def move(self):\n",
    "        self.position = self.position + self.velocity\n",
    "\n",
    "\n",
    "class Space():\n",
    "\n",
    "    def __init__(self, target, target_error, n_particles):\n",
    "        self.target = target\n",
    "        self.target_error = target_error\n",
    "        self.n_particles = n_particles\n",
    "        self.particles = []\n",
    "        self.gbest_value = float('inf')\n",
    "        self.gbest_position = np.array([random.random()*50, random.random()*50])\n",
    "\n",
    "    def print_particles(self):\n",
    "        for particle in self.particles:\n",
    "            particle.__str__()\n",
    "   \n",
    "    def fitness(self, particle):\n",
    "        return particle.position[0] ** 2 + particle.position[1] ** 2 + 1\n",
    "\n",
    "    def set_pbest(self):\n",
    "        for particle in self.particles:\n",
    "            fitness_cadidate = self.fitness(particle)\n",
    "            if(particle.pbest_value > fitness_cadidate):\n",
    "                particle.pbest_value = fitness_cadidate\n",
    "                particle.pbest_position = particle.position\n",
    "            \n",
    "\n",
    "    def set_gbest(self):\n",
    "        for particle in self.particles:\n",
    "            best_fitness_cadidate = self.fitness(particle)\n",
    "            if(self.gbest_value > best_fitness_cadidate):\n",
    "                self.gbest_value = best_fitness_cadidate\n",
    "                self.gbest_position = particle.position\n",
    "\n",
    "    def move_particles(self):\n",
    "        for particle in self.particles:\n",
    "            global W\n",
    "            new_velocity = (W*particle.velocity) + (c1*random.random()) * (particle.pbest_position - particle.position) + \\\n",
    "                            (random.random()*c2) * (self.gbest_position - particle.position)\n",
    "            particle.velocity = new_velocity\n",
    "            particle.move()\n",
    "            \n",
    "\n",
    "search_space = Space(1, target_error, n_particles)\n",
    "particles_vector = [Particle() for _ in range(search_space.n_particles)]\n",
    "search_space.particles = particles_vector\n",
    "search_space.print_particles()\n",
    "\n",
    "iteration = 0\n",
    "while(iteration < n_iterations):\n",
    "    search_space.set_pbest()    \n",
    "    search_space.set_gbest()\n",
    "\n",
    "    if(abs(search_space.gbest_value - search_space.target) <= search_space.target_error):\n",
    "        break\n",
    "\n",
    "    search_space.move_particles()\n",
    "    iteration += 1\n",
    "    \n",
    "print(\"The best solution is: \", search_space.gbest_position, \" in n_iterations: \", iteration)\n"
   ]
  },
  {
   "cell_type": "code",
   "execution_count": 57,
   "metadata": {},
   "outputs": [
    {
     "name": "stdout",
     "output_type": "stream",
     "text": [
      "Inform the number of iterations: 1\n",
      "Inform the target error: 0\n",
      "Inform the number of particles: 3\n",
      "500.7726651130476   [-21.7207535   -5.28975733]\n",
      "1689.7414920895355   [-22.13556255 -34.62309002]\n",
      "150.55019179906782   [  6.33104379 -10.46269928]\n",
      "The best position is  [  6.33104379 -10.46269928] in iteration number  1\n"
     ]
    }
   ],
   "source": [
    "import random\n",
    "import numpy as np \n",
    "\n",
    "#function that models the problem\n",
    "def fitness_function(position):\n",
    "    return position[0]**2 + position[1]**2 + 1\n",
    "\n",
    "#Some variables to calculate the velocity\n",
    "W = 0.5\n",
    "c1 = 0.5\n",
    "c2 = 0.9\n",
    "target = 1\n",
    "\n",
    "n_iterations = int(input(\"Inform the number of iterations: \"))\n",
    "target_error = float(input(\"Inform the target error: \"))\n",
    "n_particles = int(input(\"Inform the number of particles: \"))\n",
    "\n",
    "particle_position_vector = np.array([np.array([(-1) ** (bool(random.getrandbits(1))) * random.random()*50, (-1)**(bool(random.getrandbits(1))) * random.random()*50]) for _ in range(n_particles)])\n",
    "pbest_position = particle_position_vector\n",
    "pbest_fitness_value = np.array([float('inf') for _ in range(n_particles)])\n",
    "gbest_fitness_value = float('inf')\n",
    "gbest_position = np.array([float('inf'), float('inf')])\n",
    "\n",
    "velocity_vector = ([np.array([0, 0]) for _ in range(n_particles)])\n",
    "iteration = 0\n",
    "while iteration < n_iterations:\n",
    "    for i in range(n_particles):\n",
    "        fitness_cadidate = fitness_function(particle_position_vector[i])\n",
    "        print(fitness_cadidate, ' ', particle_position_vector[i])\n",
    "        \n",
    "        if(pbest_fitness_value[i] > fitness_cadidate):\n",
    "            pbest_fitness_value[i] = fitness_cadidate\n",
    "            pbest_position[i] = particle_position_vector[i]\n",
    "\n",
    "        if(gbest_fitness_value > fitness_cadidate):\n",
    "            gbest_fitness_value = fitness_cadidate\n",
    "            gbest_position = particle_position_vector[i]\n",
    "\n",
    "    if(abs(gbest_fitness_value - target) < target_error):\n",
    "        break\n",
    "    \n",
    "    for i in range(n_particles):\n",
    "        new_velocity = (W*velocity_vector[i]) + (c1*random.random()) * (pbest_position[i] - particle_position_vector[i]) + (c2*random.random()) * (gbest_position-particle_position_vector[i])\n",
    "        new_position = new_velocity + particle_position_vector[i]\n",
    "        particle_position_vector[i] = new_position\n",
    "\n",
    "    iteration = iteration + 1\n",
    "    \n",
    "print(\"The best position is \", gbest_position, \"in iteration number \", iteration)"
   ]
  },
  {
   "cell_type": "code",
   "execution_count": null,
   "metadata": {},
   "outputs": [],
   "source": []
  }
 ],
 "metadata": {
  "kernelspec": {
   "display_name": "Python 3",
   "language": "python",
   "name": "python3"
  },
  "language_info": {
   "codemirror_mode": {
    "name": "ipython",
    "version": 3
   },
   "file_extension": ".py",
   "mimetype": "text/x-python",
   "name": "python",
   "nbconvert_exporter": "python",
   "pygments_lexer": "ipython3",
   "version": "3.8.5"
  }
 },
 "nbformat": 4,
 "nbformat_minor": 4
}
